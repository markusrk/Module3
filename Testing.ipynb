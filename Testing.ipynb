{
 "cells": [
  {
   "cell_type": "code",
   "execution_count": 2,
   "metadata": {},
   "outputs": [],
   "source": [
    "from casemanager import CaseManager\n",
    "\n",
    "cm = CaseManager(\"1\")\n",
    "\n",
    "\n"
   ]
  },
  {
   "cell_type": "code",
   "execution_count": 10,
   "metadata": {
    "scrolled": true
   },
   "outputs": [
    {
     "name": "stdout",
     "output_type": "stream",
     "text": [
      "Currently on step: 0\n",
      "Currently on step: 100\n",
      "Currently on step: 200\n",
      "Currently on step: 300\n",
      "Currently on step: 400\n",
      "Currently on step: 500\n",
      "Currently on step: 600\n",
      "Currently on step: 700\n",
      "Currently on step: 800\n",
      "Currently on step: 900\n",
      "Currently on step: 1000\n",
      "Currently on step: 1100\n",
      "Currently on step: 1200\n",
      "Currently on step: 1300\n",
      "Currently on step: 1400\n",
      "Currently on step: 1500\n",
      "Currently on step: 1600\n",
      "Currently on step: 1700\n",
      "Currently on step: 1800\n",
      "Currently on step: 1900\n",
      "Currently on step: 2000\n",
      "Currently on step: 2100\n",
      "Currently on step: 2200\n",
      "Currently on step: 2300\n",
      "Currently on step: 2400\n",
      "Currently on step: 2500\n",
      "Currently on step: 2600\n",
      "Currently on step: 2700\n",
      "Currently on step: 2800\n",
      "Currently on step: 2900\n",
      "Currently on step: 3000\n",
      "Currently on step: 3100\n",
      "Currently on step: 3200\n",
      "Currently on step: 3300\n",
      "Currently on step: 3400\n",
      "Currently on step: 3500\n",
      "Currently on step: 3600\n",
      "Currently on step: 3700\n",
      "Currently on step: 3800\n",
      "Currently on step: 3900\n",
      "Path length= 8016.69700031\n"
     ]
    },
    {
     "data": {
      "text/plain": [
       "(8016.6970003128499, 'output/264')"
      ]
     },
     "execution_count": 10,
     "metadata": {},
     "output_type": "execute_result"
    }
   ],
   "source": [
    "import main as m\n",
    "import importlib\n",
    "importlib.reload(m)\n",
    "\n",
    "param = {\"lr\": 0.5,\n",
    "            \"input_size\": 52,\n",
    "            \"output_size\": 100,\n",
    "            \"decay_func\": \"exp\",\n",
    "            \"caseman\": cm,\n",
    "            \"decay_half_life\": 1000,\n",
    "            \"n_factor\": 5,\n",
    "            \"n_halftime\": 500,\n",
    "            \"graph_int\": 100,\n",
    "            \"video\": False,\n",
    "            \"output_dir\": None,\n",
    "}\n",
    "\n",
    "som = m.SOM(**param)\n",
    "som.run(4000)"
   ]
  },
  {
   "cell_type": "code",
   "execution_count": null,
   "metadata": {},
   "outputs": [],
   "source": []
  }
 ],
 "metadata": {
  "kernelspec": {
   "display_name": "Python 3",
   "language": "python",
   "name": "python3"
  },
  "language_info": {
   "codemirror_mode": {
    "name": "ipython",
    "version": 3
   },
   "file_extension": ".py",
   "mimetype": "text/x-python",
   "name": "python",
   "nbconvert_exporter": "python",
   "pygments_lexer": "ipython3",
   "version": "3.5.1"
  }
 },
 "nbformat": 4,
 "nbformat_minor": 2
}
