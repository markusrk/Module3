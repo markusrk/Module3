{
 "cells": [
  {
   "cell_type": "code",
   "execution_count": 26,
   "metadata": {},
   "outputs": [],
   "source": [
    "from casemanager import CaseManager\n",
    "\n",
    "cm = CaseManager(\"8\")\n",
    "\n",
    "\n"
   ]
  },
  {
   "cell_type": "code",
   "execution_count": 27,
   "metadata": {
    "scrolled": true
   },
   "outputs": [
    {
     "name": "stdout",
     "output_type": "stream",
     "text": [
      "(1322.883028125269, 'output/452')\n",
      "(1297.7312301978734, 'output/453')\n",
      "(1284.1406858016624, 'output/454')\n",
      "(1325.1087083720824, 'output/455')\n",
      "(1285.8037830868877, 'output/456')\n",
      "(1298.8471472913204, 'output/457')\n",
      "(1301.1680698493728, 'output/458')\n",
      "(1303.9201981728045, 'output/459')\n",
      "(1344.6222670001744, 'output/460')\n",
      "(1274.1804476274815, 'output/461')\n"
     ]
    }
   ],
   "source": [
    "import main as m\n",
    "import importlib\n",
    "importlib.reload(m)\n",
    "\n",
    "param = {\"lr\": 0.5,\n",
    "            \"input_size\": 2,\n",
    "            \"output_size\": 260,\n",
    "            \"decay_func\": \"exp\",\n",
    "            \"caseman\": cm,\n",
    "            \"decay_half_life\": 1000,\n",
    "            \"n_factor\": 20,\n",
    "            \"n_halftime\": 500,\n",
    "            \"graph_int\": 10000,\n",
    "            \"video\": False,\n",
    "            \"output_dir\": None,\n",
    "            \"print_interval\" : 10000\n",
    "}\n",
    "for x in range(10):\n",
    "    som = m.SOM(**param)\n",
    "    print(som.run(4000))"
   ]
  },
  {
   "cell_type": "code",
   "execution_count": 16,
   "metadata": {},
   "outputs": [
    {
     "name": "stdout",
     "output_type": "stream",
     "text": [
      "Currently on step: 50\n",
      "Currently on step: 100\n",
      "Currently on step: 150\n",
      "Currently on step: 200\n",
      "Currently on step: 250\n",
      "Currently on step: 300\n",
      "Currently on step: 350\n",
      "Currently on step: 400\n",
      "Currently on step: 450\n",
      "Currently on step: 500\n",
      "Currently on step: 550\n",
      "Currently on step: 600\n",
      "Currently on step: 650\n",
      "Currently on step: 700\n",
      "Currently on step: 750\n",
      "Currently on step: 800\n",
      "Currently on step: 850\n",
      "Currently on step: 900\n",
      "Currently on step: 950\n",
      "Currently on step: 1000\n",
      "Currently on step: 1050\n",
      "Currently on step: 1100\n",
      "Currently on step: 1150\n",
      "Currently on step: 1200\n",
      "Currently on step: 1250\n",
      "Currently on step: 1300\n",
      "Currently on step: 1350\n",
      "Currently on step: 1400\n",
      "Currently on step: 1450\n",
      "Currently on step: 1500\n",
      "Currently on step: 1550\n",
      "Currently on step: 1600\n",
      "Currently on step: 1650\n",
      "Currently on step: 1700\n",
      "Currently on step: 1750\n",
      "Currently on step: 1800\n",
      "Currently on step: 1850\n",
      "Currently on step: 1900\n",
      "Currently on step: 1950\n",
      "Currently on step: 2000\n",
      "Currently on step: 2050\n",
      "Currently on step: 2100\n",
      "Currently on step: 2150\n",
      "Currently on step: 2200\n",
      "Currently on step: 2250\n",
      "Currently on step: 2300\n",
      "Currently on step: 2350\n",
      "Currently on step: 2400\n",
      "Currently on step: 2450\n",
      "Currently on step: 2500\n",
      "Currently on step: 2550\n",
      "Currently on step: 2600\n",
      "Currently on step: 2650\n",
      "Currently on step: 2700\n",
      "Currently on step: 2750\n",
      "Currently on step: 2800\n",
      "Currently on step: 2850\n",
      "Currently on step: 2900\n",
      "Currently on step: 2950\n",
      "Currently on step: 3000\n",
      "Currently on step: 3050\n",
      "Currently on step: 3100\n",
      "Currently on step: 3150\n",
      "Currently on step: 3200\n",
      "Currently on step: 3250\n",
      "Currently on step: 3300\n",
      "Currently on step: 3350\n",
      "Currently on step: 3400\n",
      "Currently on step: 3450\n",
      "Currently on step: 3500\n",
      "Currently on step: 3550\n",
      "Currently on step: 3600\n",
      "Currently on step: 3650\n",
      "Currently on step: 3700\n",
      "Currently on step: 3750\n",
      "Currently on step: 3800\n",
      "Currently on step: 3850\n",
      "Currently on step: 3900\n",
      "Currently on step: 3950\n",
      "(693.17885916319176, 'output/411')\n"
     ]
    }
   ],
   "source": [
    "param[\"graph_int\"] = 50\n",
    "param[\"print_interval\"] = 50\n",
    "som = m.SOM(**param)\n",
    "print(som.run(4000))\n"
   ]
  }
 ],
 "metadata": {
  "kernelspec": {
   "display_name": "Python 3",
   "language": "python",
   "name": "python3"
  },
  "language_info": {
   "codemirror_mode": {
    "name": "ipython",
    "version": 3
   },
   "file_extension": ".py",
   "mimetype": "text/x-python",
   "name": "python",
   "nbconvert_exporter": "python",
   "pygments_lexer": "ipython3",
   "version": "3.5.1"
  }
 },
 "nbformat": 4,
 "nbformat_minor": 2
}
