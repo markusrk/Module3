{
 "cells": [
  {
   "cell_type": "code",
   "execution_count": 1,
   "metadata": {},
   "outputs": [],
   "source": [
    "import random \n",
    "l = \"0\"\n",
    "\n",
    "for i in range(1,100000):\n",
    "    l = l+\",\"+str(random.randint(0,999))\n",
    "    #l = l+\",\"+str(i)\n",
    "with open('randnums_mnist.txt','w') as f:\n",
    "    f.write(l)\n",
    "    "
   ]
  },
  {
   "cell_type": "code",
   "execution_count": 50,
   "metadata": {},
   "outputs": [
    {
     "name": "stdout",
     "output_type": "stream",
     "text": [
      "(7890.4540835417329, 'output/585')\n",
      "(8108.6647485623016, 'output/586')\n",
      "(7948.1932375401484, 'output/587')\n",
      "(8159.5878396518701, 'output/588')\n",
      "(8286.479385720213, 'output/589')\n",
      "(7975.2812211234377, 'output/590')\n",
      "(8450.4400305888794, 'output/591')\n",
      "(8465.3295903946728, 'output/592')\n",
      "(8187.5345139485753, 'output/593')\n",
      "(8426.2241774208105, 'output/594')\n"
     ]
    }
   ],
   "source": [
    "from casemanager import CaseManager\n",
    "\n",
    "cm = CaseManager(\"1\")\n",
    "\n",
    "\n",
    "import main as m\n",
    "import importlib\n",
    "importlib.reload(m)\n",
    "\n",
    "param = {\"lr\": 0.5,\n",
    "            \"input_size\": 2,\n",
    "            \"output_size\": 260,\n",
    "            \"decay_func\": \"exp\",\n",
    "            \"caseman\": cm,\n",
    "            \"decay_half_life\": 1000,\n",
    "            \"n_factor\": 20,\n",
    "            \"n_halftime\": 500,\n",
    "            \"graph_int\": 10000,\n",
    "            \"video\": False,\n",
    "            \"output_dir\": None,\n",
    "            \"print_interval\" : 10000\n",
    "}\n",
    "for x in range(10):\n",
    "    som = m.SOM(**param)\n",
    "    print(som.run(4000))"
   ]
  },
  {
   "cell_type": "code",
   "execution_count": 39,
   "metadata": {
    "scrolled": true
   },
   "outputs": [
    {
     "name": "stdout",
     "output_type": "stream",
     "text": [
      "(6499.0497693675243, 'output/534')\n"
     ]
    }
   ],
   "source": [
    "import main as m\n",
    "import importlib\n",
    "importlib.reload(m)\n",
    "\n",
    "from casemanager import CaseManager\n",
    "\n",
    "cm = CaseManager(\"2\")\n",
    "\n",
    "param = {\"lr\": 0.5,\n",
    "            \"input_size\": 2,\n",
    "            \"output_size\": 260,\n",
    "            \"decay_func\": \"exp\",\n",
    "            \"caseman\": cm,\n",
    "            \"decay_half_life\": 1000,\n",
    "            \"n_factor\": 20,\n",
    "            \"n_halftime\": 500,\n",
    "            \"graph_int\": 10000,\n",
    "            \"video\": False,\n",
    "            \"output_dir\": None,\n",
    "            \"print_interval\" : 10000\n",
    "}\n",
    "for x in range(1):\n",
    "    som = m.SOM(**param)\n",
    "    print(som.run(4000))"
   ]
  }
 ],
 "metadata": {
  "kernelspec": {
   "display_name": "Python 3",
   "language": "python",
   "name": "python3"
  },
  "language_info": {
   "codemirror_mode": {
    "name": "ipython",
    "version": 3
   },
   "file_extension": ".py",
   "mimetype": "text/x-python",
   "name": "python",
   "nbconvert_exporter": "python",
   "pygments_lexer": "ipython3",
   "version": "3.5.1"
  }
 },
 "nbformat": 4,
 "nbformat_minor": 2
}
