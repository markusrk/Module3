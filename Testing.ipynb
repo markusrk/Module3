{
 "cells": [
  {
   "cell_type": "code",
   "execution_count": 1,
   "metadata": {},
   "outputs": [
    {
     "name": "stdout",
     "output_type": "stream",
     "text": [
      "Extracting datasets/MNIST/train-images-idx3-ubyte.gz\n",
      "Extracting datasets/MNIST/train-labels-idx1-ubyte.gz\n",
      "Extracting datasets/MNIST/t10k-images-idx3-ubyte.gz\n",
      "Extracting datasets/MNIST/t10k-labels-idx1-ubyte.gz\n"
     ]
    }
   ],
   "source": [
    "from casemanager import CaseManager\n",
    "cm = CaseManager(\"mnist\")\n",
    "\n",
    "\n"
   ]
  },
  {
   "cell_type": "code",
   "execution_count": 20,
   "metadata": {},
   "outputs": [
    {
     "name": "stdout",
     "output_type": "stream",
     "text": [
      "7509.0\n"
     ]
    }
   ],
   "source": [
    "import numpy as np\n",
    "\n",
    "\n",
    "a=np.random.random_sample((200,728))\n",
    "b=np.random.random_sample((728))\n",
    "c=a*b\n",
    "\n",
    "f,l = cm.next()\n",
    "\n",
    "cm2 = CaseManager(\"1\")\n",
    "f,l = cm2.next()\n",
    "\n",
    "print(f)\n"
   ]
  },
  {
   "cell_type": "code",
   "execution_count": 13,
   "metadata": {
    "scrolled": true
   },
   "outputs": [
    {
     "name": "stdout",
     "output_type": "stream",
     "text": [
      "Currently on step: 0\n",
      "Currently on step: 10\n",
      "Currently on step: 20\n",
      "Currently on step: 30\n",
      "Currently on step: 40\n",
      "Currently on step: 50\n",
      "Currently on step: 60\n",
      "Currently on step: 70\n",
      "Currently on step: 80\n",
      "Currently on step: 90\n"
     ]
    },
    {
     "data": {
      "text/plain": [
       "('mnist', 'output/205')"
      ]
     },
     "execution_count": 13,
     "metadata": {},
     "output_type": "execute_result"
    }
   ],
   "source": [
    "import mnist as m\n",
    "import importlib\n",
    "importlib.reload(m)\n",
    "\n",
    "param = {\"lr\": 0.5,\n",
    "            \"input_size\": 784,\n",
    "            \"output_size\": 196,\n",
    "            \"decay_func\": \"exp\",\n",
    "            \"caseman\": cm,\n",
    "            \"decay_half_life\": 1000,\n",
    "            \"n_factor\": 5,\n",
    "            \"n_halftime\": 500,\n",
    "            \"graph_int\": 10,\n",
    "            \"video\": False,\n",
    "            \"output_dir\": None,\n",
    "            \"nodes_per_row\": 14\n",
    "}\n",
    "\n",
    "som = m.SOM(**param)\n",
    "som.run(100)"
   ]
  },
  {
   "cell_type": "code",
   "execution_count": null,
   "metadata": {},
   "outputs": [],
   "source": [
    "import networkx as nx\n",
    "import numpy as np\n",
    "import matplotlib.pyplot as plt\n",
    "\n",
    "x_dim = 5\n",
    "y_dim = 5\n",
    "a = np.zeros([x_dim*y_dim,x_dim*y_dim],int)\n",
    "\n",
    "for i in range(a.shape[1]):\n",
    "    a[i][(i-1)%(x_dim*y_dim)] = 1\n",
    "    a[i][(i+1)%(x_dim*y_dim)] =1 \n",
    "    a[i][(i+x_dim)%(x_dim*y_dim)] = 1\n",
    "    a[i][(i-x_dim)%(x_dim*y_dim)] = 1\n",
    "\n",
    "plt.matshow(a)\n",
    "plt.show()"
   ]
  }
 ],
 "metadata": {
  "kernelspec": {
   "display_name": "Python 3",
   "language": "python",
   "name": "python3"
  },
  "language_info": {
   "codemirror_mode": {
    "name": "ipython",
    "version": 3
   },
   "file_extension": ".py",
   "mimetype": "text/x-python",
   "name": "python",
   "nbconvert_exporter": "python",
   "pygments_lexer": "ipython3",
   "version": "3.5.1"
  }
 },
 "nbformat": 4,
 "nbformat_minor": 2
}
