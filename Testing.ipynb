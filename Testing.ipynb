{
 "cells": [
  {
   "cell_type": "code",
   "execution_count": 2,
   "metadata": {},
   "outputs": [
    {
     "name": "stdout",
     "output_type": "stream",
     "text": [
      "Extracting datasets/MNIST/train-images-idx3-ubyte.gz\n",
      "Extracting datasets/MNIST/train-labels-idx1-ubyte.gz\n",
      "Extracting datasets/MNIST/t10k-images-idx3-ubyte.gz\n",
      "Extracting datasets/MNIST/t10k-labels-idx1-ubyte.gz\n"
     ]
    }
   ],
   "source": [
    "from casemanager import CaseManager\n",
    "cm = CaseManager(\"mnist\")\n",
    "\n",
    "\n"
   ]
  },
  {
   "cell_type": "code",
   "execution_count": 10,
   "metadata": {
    "scrolled": true
   },
   "outputs": [
    {
     "name": "stdout",
     "output_type": "stream",
     "text": [
      "Currently on step: 0\n",
      "Currently on step: 10\n",
      "Currently on step: 20\n",
      "Currently on step: 30\n",
      "Currently on step: 40\n",
      "Currently on step: 50\n",
      "Currently on step: 60\n",
      "Currently on step: 70\n",
      "Currently on step: 80\n",
      "Currently on step: 90\n",
      "Currently on step: 100\n",
      "Currently on step: 110\n",
      "Currently on step: 120\n",
      "Currently on step: 130\n",
      "Currently on step: 140\n",
      "Currently on step: 150\n",
      "Currently on step: 160\n",
      "Currently on step: 170\n",
      "Currently on step: 180\n",
      "Currently on step: 190\n",
      "Currently on step: 200\n",
      "Currently on step: 210\n",
      "Currently on step: 220\n",
      "Currently on step: 230\n",
      "Currently on step: 240\n",
      "Currently on step: 250\n",
      "Currently on step: 260\n",
      "Currently on step: 270\n",
      "Currently on step: 280\n",
      "Currently on step: 290\n",
      "Currently on step: 300\n",
      "Currently on step: 310\n",
      "Currently on step: 320\n",
      "Currently on step: 330\n",
      "Currently on step: 340\n",
      "Currently on step: 350\n",
      "Currently on step: 360\n",
      "Currently on step: 370\n",
      "Currently on step: 380\n",
      "Currently on step: 390\n",
      "Currently on step: 400\n",
      "Currently on step: 410\n",
      "Currently on step: 420\n",
      "Currently on step: 430\n",
      "Currently on step: 440\n",
      "Currently on step: 450\n",
      "Currently on step: 460\n",
      "Currently on step: 470\n",
      "Currently on step: 480\n",
      "Currently on step: 490\n"
     ]
    },
    {
     "data": {
      "text/plain": [
       "('mnist', 'output/221')"
      ]
     },
     "execution_count": 10,
     "metadata": {},
     "output_type": "execute_result"
    }
   ],
   "source": [
    "import mnist as m\n",
    "import importlib\n",
    "importlib.reload(m)\n",
    "\n",
    "param = {\"lr\": 0.5,\n",
    "            \"input_size\": 784,\n",
    "            \"output_size\": 196,\n",
    "            \"decay_func\": \"exp\",\n",
    "            \"caseman\": cm,\n",
    "            \"decay_half_life\": 1000,\n",
    "            \"n_factor\": 5,\n",
    "            \"n_halftime\": 500,\n",
    "            \"graph_int\": 10,\n",
    "            \"video\": False,\n",
    "            \"output_dir\": None,\n",
    "            \"nodes_per_row\": 14\n",
    "}\n",
    "\n",
    "som = m.SOM(**param)\n",
    "som.run(500)"
   ]
  },
  {
   "cell_type": "code",
   "execution_count": 8,
   "metadata": {},
   "outputs": [
    {
     "data": {
      "image/png": "[encoded data removed]",
      "text/plain": [
       "<matplotlib.figure.Figure at 0x113cef3c8>"
      ]
     },
     "metadata": {},
     "output_type": "display_data"
    },
    {
     "data": {
      "image/png": "[encoded data removed]",
      "text/plain": [
       "<matplotlib.figure.Figure at 0x1166d1ac8>"
      ]
     },
     "metadata": {},
     "output_type": "display_data"
    }
   ],
   "source": [
    "import networkx as nx\n",
    "import numpy as np\n",
    "import matplotlib.pyplot as plt\n",
    "\n",
    "x_dim = 5\n",
    "y_dim = 5\n",
    "a = np.zeros([x_dim*y_dim,x_dim*y_dim],int)\n",
    "\n",
    "for i in range(a.shape[1]):\n",
    "    a[i][(i-1)%(x_dim*y_dim)] = 1\n",
    "    a[i][(i+1)%(x_dim*y_dim)] =1 \n",
    "    a[i][(i+x_dim)%(x_dim*y_dim)] = 1\n",
    "    a[i][(i-x_dim)%(x_dim*y_dim)] = 1\n",
    "\n",
    "plt.matshow(a)\n",
    "plt.show()"
   ]
  }
 ],
 "metadata": {
  "kernelspec": {
   "display_name": "Python 3",
   "language": "python",
   "name": "python3"
  },
  "language_info": {
   "codemirror_mode": {
    "name": "ipython",
    "version": 3
   },
   "file_extension": ".py",
   "mimetype": "text/x-python",
   "name": "python",
   "nbconvert_exporter": "python",
   "pygments_lexer": "ipython3",
   "version": "3.5.1"
  }
 },
 "nbformat": 4,
 "nbformat_minor": 2
}
