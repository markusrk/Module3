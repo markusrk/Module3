{
 "cells": [
  {
   "cell_type": "code",
   "execution_count": 4,
   "metadata": {},
   "outputs": [],
   "source": [
    "import random \n",
    "l = \"37\"\n",
    "\n",
    "for i in range(100000):\n",
    "    l = l+\",\"+str(random.randint(0,200))\n",
    "    \n",
    "with open('randnums.txt','w') as f:\n",
    "    f.write(l)\n",
    "    "
   ]
  },
  {
   "cell_type": "code",
   "execution_count": 2,
   "metadata": {},
   "outputs": [],
   "source": [
    "from casemanager import CaseManager\n",
    "\n",
    "cm = CaseManager(\"1\")\n",
    "\n",
    "\n"
   ]
  },
  {
   "cell_type": "code",
   "execution_count": 3,
   "metadata": {
    "scrolled": true
   },
   "outputs": [
    {
     "name": "stdout",
     "output_type": "stream",
     "text": [
      "(8132.7401858131889, 'output/485')\n",
      "(8285.3845880970257, 'output/486')\n",
      "(8330.7006892909485, 'output/487')\n",
      "(7835.4085932610951, 'output/488')\n",
      "(8015.3556777682907, 'output/489')\n",
      "(8434.3579169368204, 'output/490')\n",
      "(8288.7653347911855, 'output/491')\n",
      "(7936.552515899235, 'output/492')\n",
      "(8224.3244404764446, 'output/493')\n",
      "(8387.0013276011541, 'output/494')\n"
     ]
    }
   ],
   "source": [
    "import main as m\n",
    "import importlib\n",
    "importlib.reload(m)\n",
    "\n",
    "param = {\"lr\": 0.5,\n",
    "            \"input_size\": 2,\n",
    "            \"output_size\": 260,\n",
    "            \"decay_func\": \"exp\",\n",
    "            \"caseman\": cm,\n",
    "            \"decay_half_life\": 1000,\n",
    "            \"n_factor\": 20,\n",
    "            \"n_halftime\": 500,\n",
    "            \"graph_int\": 10000,\n",
    "            \"video\": False,\n",
    "            \"output_dir\": None,\n",
    "            \"print_interval\" : 10000\n",
    "}\n",
    "for x in range(10):\n",
    "    som = m.SOM(**param)\n",
    "    print(som.run(4000))"
   ]
  },
  {
   "cell_type": "code",
   "execution_count": null,
   "metadata": {},
   "outputs": [],
   "source": [
    "param[\"graph_int\"] = 50\n",
    "param[\"print_interval\"] = 50\n",
    "som = m.SOM(**param)\n",
    "print(som.run(4000))\n"
   ]
  }
 ],
 "metadata": {
  "kernelspec": {
   "display_name": "Python 3",
   "language": "python",
   "name": "python3"
  },
  "language_info": {
   "codemirror_mode": {
    "name": "ipython",
    "version": 3
   },
   "file_extension": ".py",
   "mimetype": "text/x-python",
   "name": "python",
   "nbconvert_exporter": "python",
   "pygments_lexer": "ipython3",
   "version": "3.5.1"
  }
 },
 "nbformat": 4,
 "nbformat_minor": 2
}
