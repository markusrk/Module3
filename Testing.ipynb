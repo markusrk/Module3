{
 "cells": [
  {
   "cell_type": "code",
   "execution_count": 43,
   "metadata": {},
   "outputs": [],
   "source": [
    "\n",
    "import numpy as np\n",
    "import pandas as pd\n",
    "\n",
    "a = np.array([[1,2,3,4],[5,6,7,8],[9,10,11,12]])\n",
    "b = {\"a\":123,\"b\":12.22,\"c\":2121}\n",
    "c = {\"a\":123,\"b\":12.22,\"d\":\"hei22222!\"}\n",
    "df2 = pd.DataFrame(b,index=[0,1]) \n",
    "df = pd.DataFrame(c,index=[2,3])\n",
    "\n"
   ]
  },
  {
   "cell_type": "code",
   "execution_count": 45,
   "metadata": {},
   "outputs": [
    {
     "data": {
      "text/html": [
       "<div>\n",
       "<style scoped>\n",
       "    .dataframe tbody tr th:only-of-type {\n",
       "        vertical-align: middle;\n",
       "    }\n",
       "\n",
       "    .dataframe tbody tr th {\n",
       "        vertical-align: top;\n",
       "    }\n",
       "\n",
       "    .dataframe thead th {\n",
       "        text-align: right;\n",
       "    }\n",
       "</style>\n",
       "<table border=\"1\" class=\"dataframe\">\n",
       "  <thead>\n",
       "    <tr style=\"text-align: right;\">\n",
       "      <th></th>\n",
       "      <th>a</th>\n",
       "      <th>b</th>\n",
       "      <th>c</th>\n",
       "      <th>d</th>\n",
       "    </tr>\n",
       "  </thead>\n",
       "  <tbody>\n",
       "    <tr>\n",
       "      <th>2</th>\n",
       "      <td>123</td>\n",
       "      <td>12.22</td>\n",
       "      <td>NaN</td>\n",
       "      <td>hei22222!</td>\n",
       "    </tr>\n",
       "    <tr>\n",
       "      <th>3</th>\n",
       "      <td>123</td>\n",
       "      <td>12.22</td>\n",
       "      <td>NaN</td>\n",
       "      <td>hei22222!</td>\n",
       "    </tr>\n",
       "    <tr>\n",
       "      <th>0</th>\n",
       "      <td>123</td>\n",
       "      <td>12.22</td>\n",
       "      <td>2121.0</td>\n",
       "      <td>NaN</td>\n",
       "    </tr>\n",
       "    <tr>\n",
       "      <th>1</th>\n",
       "      <td>123</td>\n",
       "      <td>12.22</td>\n",
       "      <td>2121.0</td>\n",
       "      <td>NaN</td>\n",
       "    </tr>\n",
       "  </tbody>\n",
       "</table>\n",
       "</div>"
      ],
      "text/plain": [
       "     a      b       c          d\n",
       "2  123  12.22     NaN  hei22222!\n",
       "3  123  12.22     NaN  hei22222!\n",
       "0  123  12.22  2121.0        NaN\n",
       "1  123  12.22  2121.0        NaN"
      ]
     },
     "execution_count": 45,
     "metadata": {},
     "output_type": "execute_result"
    }
   ],
   "source": [
    "df.append(df2)"
   ]
  },
  {
   "cell_type": "code",
   "execution_count": 46,
   "metadata": {},
   "outputs": [
    {
     "name": "stdout",
     "output_type": "stream",
     "text": [
      "     a      b          d\n",
      "2  123  12.22  hei22222!\n",
      "3  123  12.22  hei22222!\n",
      "\n",
      "\n",
      "     a      b     c\n",
      "0  123  12.22  2121\n",
      "1  123  12.22  2121\n"
     ]
    }
   ],
   "source": [
    "print(df)\n",
    "print(\"\\n\")\n",
    "print(df2)"
   ]
  },
  {
   "cell_type": "code",
   "execution_count": 60,
   "metadata": {},
   "outputs": [],
   "source": [
    "        param = {\"lr\": 0.5,\n",
    "                 \"input_size\": 2,\n",
    "                 \"output_size\": 200,\n",
    "                 \"decay_func\": \"exp\",\n",
    "                 \"caseman\": \"somewhere\",\n",
    "                 \"decay_half_life\": 1000,\n",
    "                 \"n_factor\": 5,\n",
    "                 \"n_halftime\": 500,\n",
    "                 \"graph_int\": 10,\n",
    "                 \"video\": True,\n",
    "                 \"output_dir\": \"some_dir\"\n",
    "                 }\n",
    "        param[\"something\"] = \"something new\"\n",
    "        temp = pd.DataFrame()\n",
    "        temp = temp.append(param,ignore_index=True)"
   ]
  },
  {
   "cell_type": "code",
   "execution_count": 63,
   "metadata": {},
   "outputs": [
    {
     "name": "stdout",
     "output_type": "stream",
     "text": [
      "     caseman decay_func  decay_half_life  graph_int  input_size   lr  \\\n",
      "0  somewhere        exp           1000.0       10.0         2.0  0.5   \n",
      "\n",
      "   n_factor  n_halftime output_dir  output_size      something  video  \n",
      "0       5.0       500.0   some_dir        200.0  something new    1.0  \n"
     ]
    }
   ],
   "source": [
    "print(temp)\n",
    "temp.to_csv(\"results.csv\")"
   ]
  }
 ],
 "metadata": {
  "kernelspec": {
   "display_name": "Python 3",
   "language": "python",
   "name": "python3"
  },
  "language_info": {
   "codemirror_mode": {
    "name": "ipython",
    "version": 3
   },
   "file_extension": ".py",
   "mimetype": "text/x-python",
   "name": "python",
   "nbconvert_exporter": "python",
   "pygments_lexer": "ipython3",
   "version": "3.5.1"
  }
 },
 "nbformat": 4,
 "nbformat_minor": 2
}
